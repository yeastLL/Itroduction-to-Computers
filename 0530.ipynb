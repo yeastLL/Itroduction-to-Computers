{
  "nbformat": 4,
  "nbformat_minor": 0,
  "metadata": {
    "colab": {
      "name": "0530.ipynb",
      "provenance": [],
      "authorship_tag": "ABX9TyMOX7AhL100s1Mcryis5WYy",
      "include_colab_link": true
    },
    "kernelspec": {
      "name": "python3",
      "display_name": "Python 3"
    },
    "language_info": {
      "name": "python"
    }
  },
  "cells": [
    {
      "cell_type": "markdown",
      "metadata": {
        "id": "view-in-github",
        "colab_type": "text"
      },
      "source": [
        "<a href=\"https://colab.research.google.com/github/yeastLL/Itroduction-to-Computers/blob/main/0530.ipynb\" target=\"_parent\"><img src=\"https://colab.research.google.com/assets/colab-badge.svg\" alt=\"Open In Colab\"/></a>"
      ]
    },
    {
      "cell_type": "code",
      "execution_count": null,
      "metadata": {
        "colab": {
          "base_uri": "https://localhost:8080/"
        },
        "id": "yByx_bilEzPk",
        "outputId": "7502e6f0-7bd7-4241-80b7-bcecab6d20b6"
      },
      "outputs": [
        {
          "output_type": "stream",
          "name": "stdout",
          "text": [
            "2*1= 2  2*2= 4  2*3= 6  2*4= 8  2*5=10  2*6=12  2*7=14  2*8=16  2*9=18  \n",
            "3*1= 3  3*2= 6  3*3= 9  3*4=12  3*5=15  3*6=18  3*7=21  3*8=24  3*9=27  \n",
            "4*1= 4  4*2= 8  4*3=12  4*4=16  4*5=20  4*6=24  4*7=28  4*8=32  4*9=36  \n",
            "5*1= 5  5*2=10  5*3=15  5*4=20  5*5=25  5*6=30  5*7=35  5*8=40  5*9=45  \n",
            "6*1= 6  6*2=12  6*3=18  6*4=24  6*5=30  6*6=36  6*7=42  6*8=48  6*9=54  \n",
            "7*1= 7  7*2=14  7*3=21  7*4=28  7*5=35  7*6=42  7*7=49  7*8=56  7*9=63  \n",
            "8*1= 8  8*2=16  8*3=24  8*4=32  8*5=40  8*6=48  8*7=56  8*8=64  8*9=72  \n",
            "9*1= 9  9*2=18  9*3=27  9*4=36  9*5=45  9*6=54  9*7=63  9*8=72  9*9=81  \n"
          ]
        }
      ],
      "source": [
        "#99乘法表\n",
        "for i in range(2,10):\n",
        "  for j in range(1,10):\n",
        "    product = i*j\n",
        "    print(\"%d*%d=%2d  \" %(i, j, product), end=\"\")\n",
        "  print()"
      ]
    },
    {
      "cell_type": "code",
      "source": [
        "#最小公倍數\n",
        "a = int(input(\"請輸入a的值\"))\n",
        "b = int(input(\"請輸入b的值\"))\n",
        "\n",
        "maxno = a * b\n",
        "for i in range(1, maxno+1):\n",
        "  if(i % a == 0 and i %b == 0):\n",
        "    break\n",
        "print(\"%d和 %d的最小公倍數 = %d\" %(a,b,i))\n"
      ],
      "metadata": {
        "colab": {
          "base_uri": "https://localhost:8080/"
        },
        "id": "BWg8QiCJF0Ry",
        "outputId": "1be2455c-5fee-4e52-db40-bc3d15d79f91"
      },
      "execution_count": null,
      "outputs": [
        {
          "output_type": "stream",
          "name": "stdout",
          "text": [
            "請輸入a的值4\n",
            "請輸入b的值5\n",
            "4和 5的最小公倍數 = 20\n"
          ]
        }
      ]
    },
    {
      "cell_type": "code",
      "source": [
        "total = n = 0\n",
        "while(n<=10):\n",
        "  total += n\n",
        "  n += 1\n",
        "print(total)"
      ],
      "metadata": {
        "colab": {
          "base_uri": "https://localhost:8080/"
        },
        "id": "odu103VuGpIE",
        "outputId": "7ee00ff3-d3a8-409b-8a67-7610c5059ec1"
      },
      "execution_count": null,
      "outputs": [
        {
          "output_type": "stream",
          "name": "stdout",
          "text": [
            "55\n"
          ]
        }
      ]
    },
    {
      "cell_type": "code",
      "source": [
        "total = n = 0\n",
        "while n<=10:\n",
        "  total += n\n",
        "  n += 1\n",
        "print(total)"
      ],
      "metadata": {
        "colab": {
          "base_uri": "https://localhost:8080/"
        },
        "id": "ZUk8gnXzJBON",
        "outputId": "456d007d-43b4-44c5-aa9a-1849ec08b7fb"
      },
      "execution_count": null,
      "outputs": [
        {
          "output_type": "stream",
          "name": "stdout",
          "text": [
            "55\n"
          ]
        }
      ]
    },
    {
      "cell_type": "code",
      "source": [
        "total = i = 1\n",
        "n = int(input(\"請輸入正整數n的值\"))\n",
        "while i<=n:\n",
        "  total += i\n",
        "  i+=1\n",
        "print(\"%d!=%d\" %(n,total))\n"
      ],
      "metadata": {
        "id": "658hoQfRJJQy",
        "colab": {
          "base_uri": "https://localhost:8080/"
        },
        "outputId": "e00cff33-959f-46ef-97f7-6566bc652d8b"
      },
      "execution_count": 2,
      "outputs": [
        {
          "output_type": "stream",
          "name": "stdout",
          "text": [
            "請輸入正整數n的值5\n",
            "5!=16\n"
          ]
        }
      ]
    },
    {
      "cell_type": "code",
      "source": [
        "total = i = 1\n",
        "n = int(input(\"請輸入正整數n的值\"))\n",
        "while i<=n:\n",
        "  total += i\n",
        "  i+=1\n",
        "print(\"%d!=%d\" %(n,total))\n"
      ],
      "metadata": {
        "id": "jPhEwEY2ORfM",
        "colab": {
          "base_uri": "https://localhost:8080/"
        },
        "outputId": "cf7e07f7-67c7-423b-b0ce-03d4991df839"
      },
      "execution_count": 3,
      "outputs": [
        {
          "output_type": "stream",
          "name": "stdout",
          "text": [
            "請輸入正整數n的值5\n",
            "5!=16\n"
          ]
        }
      ]
    },
    {
      "cell_type": "code",
      "source": [
        "#功課_偶數和_奇數和\n",
        "i=0\n",
        "b=0\n",
        "c=0\n",
        "while i<=50:\n",
        "  if i%2==0:\n",
        "    b+=i\n",
        "  else:\n",
        "    c+=i\n",
        "  i+=1\n",
        "print('0～50的偶數和結果是=',b)\n",
        "print('0～50的奇數和結果是=',c)"
      ],
      "metadata": {
        "colab": {
          "base_uri": "https://localhost:8080/"
        },
        "id": "k3T4gC6HXEfM",
        "outputId": "38912735-d3ee-4be0-c786-12bd78cb5ffd"
      },
      "execution_count": 26,
      "outputs": [
        {
          "output_type": "stream",
          "name": "stdout",
          "text": [
            "0～50的偶數和結果是= 650\n",
            "0～50的奇數和結果是= 625\n"
          ]
        }
      ]
    },
    {
      "cell_type": "code",
      "source": [
        "#功課_星星倒三角\n",
        "a = int(input(\"請輸入正整數:\"))\n",
        "for i in range(a):\n",
        "  print((a-i)*\"*\")\n",
        "\n",
        "b = int(input(\"請輸入正整數:\"))\n",
        "for i in range(b):\n",
        "  print((b-i)*\"*\")"
      ],
      "metadata": {
        "colab": {
          "base_uri": "https://localhost:8080/"
        },
        "id": "6AGhpsBBX42F",
        "outputId": "fc8ee5b6-f4f2-470f-eef4-e7dd014a47a0"
      },
      "execution_count": 35,
      "outputs": [
        {
          "output_type": "stream",
          "name": "stdout",
          "text": [
            "請輸入正整數:5\n",
            "*****\n",
            "****\n",
            "***\n",
            "**\n",
            "*\n",
            "請輸入正整數:7\n",
            "*******\n",
            "******\n",
            "*****\n",
            "****\n",
            "***\n",
            "**\n",
            "*\n"
          ]
        }
      ]
    },
    {
      "cell_type": "code",
      "source": [
        "#功課_倍數總和\n",
        "sum=0\n",
        "for i in range(1, 100+1):\n",
        "  if(i%3==0 or i%7==0):\n",
        "    sum+=i\n",
        "    i+=1\n",
        "print('數值 1～100 中，所有是 3 或 7 倍數的數之總和 =',sum)"
      ],
      "metadata": {
        "colab": {
          "base_uri": "https://localhost:8080/"
        },
        "id": "IAQW1q2mgGeG",
        "outputId": "d11960a6-93bd-4ae4-b81b-3215773b8d7e"
      },
      "execution_count": 31,
      "outputs": [
        {
          "output_type": "stream",
          "name": "stdout",
          "text": [
            "數值 1～100 中，所有是 3 或 7 倍數的數之總和 = 2208\n"
          ]
        }
      ]
    },
    {
      "cell_type": "code",
      "source": [
        "#功課_判斷質數\n",
        "k = int(input(\"請輸入正整數:\"))\n",
        "A=[i for i in range(1,k+1)]\n",
        "\n",
        "B=A[::-1]\n",
        "C=[]\n",
        "for a in A:\n",
        "  for b in B:\n",
        "    if a*b==k:\n",
        "      C.append(a)\n",
        "print(k,\"的因數有\",C)\n",
        "\n",
        "c=2\n",
        "while c<k:\n",
        "  if k%c ==0:\n",
        "      print(\"不是質數\")\n",
        "      break\n",
        "  c+=1\n",
        "if c==k:\n",
        "    print(\"是質數\")\n"
      ],
      "metadata": {
        "colab": {
          "base_uri": "https://localhost:8080/"
        },
        "id": "q3AcIbIGgLHp",
        "outputId": "0062ffa0-dd75-4109-e301-5d792d15b9a9"
      },
      "execution_count": 41,
      "outputs": [
        {
          "output_type": "stream",
          "name": "stdout",
          "text": [
            "請輸入正整數:11\n",
            "11 的因數有 [1, 11]\n",
            "是質數\n"
          ]
        }
      ]
    },
    {
      "cell_type": "code",
      "source": [
        ""
      ],
      "metadata": {
        "id": "PztbslPHmHko"
      },
      "execution_count": null,
      "outputs": []
    }
  ]
}