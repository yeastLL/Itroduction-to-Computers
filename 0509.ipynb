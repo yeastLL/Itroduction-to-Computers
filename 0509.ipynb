{
  "nbformat": 4,
  "nbformat_minor": 0,
  "metadata": {
    "colab": {
      "name": "0509.ipynb",
      "provenance": [],
      "authorship_tag": "ABX9TyNhTVDbrneNpuAhC/xbasMZ",
      "include_colab_link": true
    },
    "kernelspec": {
      "name": "python3",
      "display_name": "Python 3"
    },
    "language_info": {
      "name": "python"
    }
  },
  "cells": [
    {
      "cell_type": "markdown",
      "metadata": {
        "id": "view-in-github",
        "colab_type": "text"
      },
      "source": [
        "<a href=\"https://colab.research.google.com/github/yeastLL/Itroduction-to-Computers/blob/main/0509.ipynb\" target=\"_parent\"><img src=\"https://colab.research.google.com/assets/colab-badge.svg\" alt=\"Open In Colab\"/></a>"
      ]
    },
    {
      "cell_type": "code",
      "execution_count": 4,
      "metadata": {
        "colab": {
          "base_uri": "https://localhost:8080/"
        },
        "id": "K0Ehf-Bv7nSG",
        "outputId": "526b1787-4495-4a6a-c733-739b6c7a0212"
      },
      "outputs": [
        {
          "output_type": "stream",
          "name": "stdout",
          "text": [
            "請輸入你的體溫33\n",
            "體溫異常，請重新量測!\n"
          ]
        }
      ],
      "source": [
        "temp = float(input(\"請輸入你的體溫\"))\n",
        "if temp >= 37.5:\n",
        "  print(\"體溫過高!\")\n",
        "elif temp >= 37 and temp <= 37.4:\n",
        "  print(\"體溫略高!\")\n",
        "elif temp >= 34 and temp <= 36.9:\n",
        "  print(\"體溫正常!\")  \n",
        "else:\n",
        "  print(\"體溫異常，請重新量測!\")"
      ]
    },
    {
      "cell_type": "code",
      "source": [
        "grade = int(input(\"請輸入你的成績\"))\n",
        "if (grade >= 90):\n",
        "  print(\"A\")\n",
        "elif (grade >= 80 and temp <= 89):\n",
        "  print(\"B\")\n",
        "elif (grade >= 70 and temp <= 79):\n",
        "  print(\"C\")\n",
        "elif (grade >= 60 and temp <= 69):\n",
        "  print(\"D\")  \n",
        "else:\n",
        "  print(\"E\")\n",
        "\n",
        "grade = int(input(\"請輸入你的成績\"))\n",
        "if (grade >= 90):\n",
        "  print(\"A\")\n",
        "elif (grade >= 80 and temp <= 89):\n",
        "  print(\"B\")\n",
        "elif (grade >= 70 and temp <= 79):\n",
        "  print(\"C\")\n",
        "elif (grade >= 60 and temp <= 69):\n",
        "  print(\"D\")  \n",
        "else:\n",
        "  print(\"E\")\n",
        "\n",
        "grade = int(input(\"請輸入你的成績\"))\n",
        "if (grade >= 90):\n",
        "  print(\"A\")\n",
        "elif (grade >= 80 and temp <= 89):\n",
        "  print(\"B\")\n",
        "elif (grade >= 70 and temp <= 79):\n",
        "  print(\"C\")\n",
        "elif (grade >= 60 and temp <= 69):\n",
        "  print(\"D\")  \n",
        "else:\n",
        "  print(\"E\")"
      ],
      "metadata": {
        "colab": {
          "base_uri": "https://localhost:8080/"
        },
        "id": "ltGuRjIH9RfX",
        "outputId": "b7e877a2-aeb0-4974-c28b-879c33ae2e6b"
      },
      "execution_count": 7,
      "outputs": [
        {
          "output_type": "stream",
          "name": "stdout",
          "text": [
            "請輸入你的成績90\n",
            "A\n",
            "請輸入你的成績80\n",
            "B\n",
            "請輸入你的成績50\n",
            "E\n"
          ]
        }
      ]
    },
    {
      "cell_type": "code",
      "source": [
        "money = int(input(\"請輸入購物金額\"))\n",
        "if (money >= 10000):\n",
        "  if(money >= 100000):\n",
        "    print(\"八折\", money*0.8, end=\"元\\n\")\n",
        "  elif(money >= 50000):\n",
        "    print(\"八五折\", money*0.85, end=\"元\\n\")\n",
        "  elif(money >= 30000):\n",
        "    print(\"九折\", money*0.9, end=\"元\\n\")\n",
        "  else:\n",
        "    print(\"九五折\", money*0.95, end=\"元\\n\")\n",
        "else:\n",
        "  print(\"沒打折\", money, end=\"元\\n\")"
      ],
      "metadata": {
        "colab": {
          "base_uri": "https://localhost:8080/"
        },
        "id": "kEovB7o8AHRF",
        "outputId": "9aa7f8c8-18c4-41bb-f9aa-35f4161d4a77"
      },
      "execution_count": 9,
      "outputs": [
        {
          "output_type": "stream",
          "name": "stdout",
          "text": [
            "請輸入購物金額999\n",
            "沒打折 999元\n"
          ]
        }
      ]
    },
    {
      "cell_type": "code",
      "source": [
        "month = int(input(\"請輸入月份\"))\n",
        "if (month <= 12):\n",
        "  if (month >= 3 and month <= 5):\n",
        "    print(month,\"月是春天!\")\n",
        "  elif(month >= 6 and month <= 8):\n",
        "    print(month,\"月是夏天!\")\n",
        "  elif(month >= 9 and month <= 11):\n",
        "    print(month,\"月是秋天!\")\n",
        "  else:\n",
        "    print(month,\"月是冬天!\")\n",
        "else:\n",
        "  print(\"月份不在範圍內!\")"
      ],
      "metadata": {
        "colab": {
          "base_uri": "https://localhost:8080/"
        },
        "id": "PoB1ti_kHjyY",
        "outputId": "04237c9d-9155-46b0-bd4e-ca74dfaa984b"
      },
      "execution_count": 10,
      "outputs": [
        {
          "output_type": "stream",
          "name": "stdout",
          "text": [
            "請輸入月份1\n",
            "1 月是冬天!\n"
          ]
        }
      ]
    },
    {
      "cell_type": "code",
      "source": [
        "income = int(input(\"請輸入今年收入淨額\"))\n",
        "if (income <= 2000000):\n",
        "  if (income >= 300000):\n",
        "    print(\"付稅淨額:\", income*0.06, end=\"元\\n\")\n",
        "  elif(income >= 600000 ):\n",
        "    print(\"付稅淨額:\", income*0.13, end=\"元\\n\")\n",
        "  elif(income >= 1000000 ):\n",
        "    print(\"付稅淨額:\", income*0.21, end=\"元\\n\")\n",
        "  else:\n",
        "    print(\"付稅淨額:\", income*0, end=\"元\\n\")\n",
        "else:\n",
        "    print(\"付稅淨額:\", income*0.3, end=\"元\\n\")\n",
        "\n",
        "income = int(input(\"請輸入今年收入淨額\"))\n",
        "if (income < 2000000):\n",
        "  if (income >= 300000):\n",
        "    print(\"付稅淨額:\", income*0.06, end=\"元\\n\")\n",
        "  elif(income >= 600000 ):\n",
        "    print(\"付稅淨額:\", income*0.13, end=\"元\\n\")\n",
        "  elif(income >= 1000000 ):\n",
        "    print(\"付稅淨額:\", income*0.21, end=\"元\\n\")\n",
        "  else:\n",
        "    print(\"付稅淨額:\", income*0, end=\"元\\n\")\n",
        "else:\n",
        "    print(\"付稅淨額:\", income*0.3, end=\"元\\n\")\n",
        "\n"
      ],
      "metadata": {
        "colab": {
          "base_uri": "https://localhost:8080/"
        },
        "id": "9lZScbxBKH25",
        "outputId": "ec90fff5-31db-4ff9-ae05-62c98747946a"
      },
      "execution_count": 13,
      "outputs": [
        {
          "output_type": "stream",
          "name": "stdout",
          "text": [
            "請輸入今年收入淨額100000\n",
            "付稅淨額: 0元\n",
            "請輸入今年收入淨額2000000\n",
            "付稅淨額: 600000.0元\n"
          ]
        }
      ]
    },
    {
      "cell_type": "code",
      "source": [
        ""
      ],
      "metadata": {
        "id": "yNbBuLRIL-11"
      },
      "execution_count": null,
      "outputs": []
    }
  ]
}